{
 "cells": [
  {
   "cell_type": "code",
   "execution_count": 3,
   "metadata": {},
   "outputs": [
    {
     "name": "stdout",
     "output_type": "stream",
     "text": [
      "NZN Player Count: 97\n",
      "SSO Player Count: 92\n",
      "Polish Veterans Player Count: 11\n",
      "PZJR Player Count: 99\n",
      "NZN server has 50 or more players. Flag not set.\n",
      "No server has a higher player count than NZN or NZN has 50 or more players.\n"
     ]
    }
   ],
   "source": [
    "import requests\n",
    "\n",
    "# Define the RCON server endpoints\n",
    "servers = {\n",
    "    'NZN': 'http://194.163.150.118:7010/api/public_info',\n",
    "    'SSO': 'http://stats.ssohll.pl/api/public_info',\n",
    "    'Polish Veterans': 'http://31.220.93.230:7010/api/public_info',\n",
    "    'PZJR' : 'http://stats.pzjr.pl:7010/api/public_info'\n",
    "}\n",
    "\n",
    "# Function to get player count from RCON server\n",
    "def get_player_count(rcon_url):\n",
    "    try:\n",
    "        response = requests.get(rcon_url)\n",
    "        if response.status_code == 200:\n",
    "            rcon_data = response.json().get('result')\n",
    "            if rcon_data:\n",
    "                player_count = rcon_data.get('player_count')\n",
    "                return player_count\n",
    "            else:\n",
    "                print(f\"No 'result' key in the response JSON from {rcon_url}\")\n",
    "        else:\n",
    "            print(f\"Failed to get data from {rcon_url}. Status code: {response.status_code}\")\n",
    "    except Exception as e:\n",
    "        print(f\"An error occurred: {e}\")\n",
    "\n",
    "    return None\n",
    "\n",
    "# Iterate through servers and print current player count\n",
    "for server_name, server_url in servers.items():\n",
    "    server_player_count = get_player_count(server_url)\n",
    "\n",
    "    if server_player_count is not None:\n",
    "        print(f\"{server_name} Player Count:\", server_player_count)\n",
    "    else:\n",
    "        print(f\"Failed to get player count for {server_name} server.\")\n",
    "\n",
    "# Get player count for NZN RCON server\n",
    "nzn_player_count = get_player_count(servers['NZN'])\n",
    "\n",
    "# Flag to track if any server has a higher player count than NZN\n",
    "higher_player_count_flag = False\n",
    "\n",
    "# Check if NZN server player count is below 50\n",
    "if nzn_player_count is not None and nzn_player_count < 50:\n",
    "    # Iterate through other servers and compare player count\n",
    "    for server_name, server_url in servers.items():\n",
    "        if server_name != 'NZN':  # Skip comparing NZN server with itself\n",
    "            server_player_count = get_player_count(server_url)\n",
    "\n",
    "            if server_player_count is not None:\n",
    "                # Compare player count and set flag if higher\n",
    "                if server_player_count > nzn_player_count:\n",
    "                    higher_player_count_flag = True\n",
    "                    print(f\"{server_name} has a higher player count than NZN!\")\n",
    "\n",
    "            else:\n",
    "                print(f\"Failed to get player count for {server_name} server.\")\n",
    "\n",
    "else:\n",
    "    print(\"NZN server has 50 or more players. Flag not set.\")\n",
    "\n",
    "# Check the flag\n",
    "if higher_player_count_flag:\n",
    "    print(\"At least one server has a higher player count than NZN and NZN has less than 50 players.\")\n",
    "else:\n",
    "    print(\"No server has a higher player count than NZN or NZN has 50 or more players.\")\n"
   ]
  }
 ],
 "metadata": {
  "kernelspec": {
   "display_name": "Python 3",
   "language": "python",
   "name": "python3"
  },
  "language_info": {
   "codemirror_mode": {
    "name": "ipython",
    "version": 3
   },
   "file_extension": ".py",
   "mimetype": "text/x-python",
   "name": "python",
   "nbconvert_exporter": "python",
   "pygments_lexer": "ipython3",
   "version": "3.11.2"
  },
  "orig_nbformat": 4
 },
 "nbformat": 4,
 "nbformat_minor": 2
}
